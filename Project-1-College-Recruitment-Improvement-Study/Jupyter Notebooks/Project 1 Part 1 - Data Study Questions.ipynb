{
 "cells": [
  {
   "cell_type": "markdown",
   "id": "0b650392-f77e-4886-8c84-e628b5a0a57b",
   "metadata": {},
   "source": [
    "**Name**: Maricarl Sibal<br>\n",
    "**Date**: February 10, 2025<br>\n",
    "**Project #1, Part 1: Data Study Questions**<br>\n",
    "\n",
    "This Jupyter notebook aims to define and explore key data science questions based on the **Non-Majors Survey** dataset. The purpose is to analyze the survey data to gain insights into why non-major students enroll in computing literacy courses at CCM. The findings from this analysis will help inform the department about factors influencing student enrollment, enabling them to focus recruitment efforts on areas that are most successful. By answering the questions posed in this notebook, we aim to provide actionable insights for improving outreach and course offerings to increase enrollment in these computing courses."
   ]
  },
  {
   "cell_type": "markdown",
   "id": "ba9ddc76-51c3-49df-8eac-a41a006c1e49",
   "metadata": {},
   "source": [
    "### Questions:\n",
    "1. What motivates students to enroll in computing literacy courses at CCM?\n",
    "2. Which outreach methods are most effective in attracting students to these courses?\n",
    "3. What percentage of non-major students are interested in taking additional computing courses?\n",
    "4. How do prior computing-related experiences influence students' decisions to enroll?\n",
    "5. Which degree programs contribute the most students to computing literacy courses?"
   ]
  },
  {
   "cell_type": "markdown",
   "id": "4068e9b8-58e7-4fae-9629-e916b76bff20",
   "metadata": {},
   "source": [
    "### Explanations:\n",
    "1. Understanding students' motivations can help the department emphasize the most appealing aspects of the courses in future recruitment efforts.\n",
    "2. Analyzing how students first heard about CCM's computing courses can help optimize marketing and outreach strategies.\n",
    "3. Identifying how many students are open to further computing education can inform course offerings and potential pathways to computing-related majors.\n",
    "4. Evaluating whether participation in computing events or activities affects enrollment can help CCM improve engagement strategies.\n",
    "5. Identifying which majors enroll in these courses most frequently can help target recruitment efforts toward similar or related fields."
   ]
  }
 ],
 "metadata": {
  "kernelspec": {
   "display_name": "Python [conda env:base] *",
   "language": "python",
   "name": "conda-base-py"
  },
  "language_info": {
   "codemirror_mode": {
    "name": "ipython",
    "version": 3
   },
   "file_extension": ".py",
   "mimetype": "text/x-python",
   "name": "python",
   "nbconvert_exporter": "python",
   "pygments_lexer": "ipython3",
   "version": "3.12.7"
  }
 },
 "nbformat": 4,
 "nbformat_minor": 5
}
